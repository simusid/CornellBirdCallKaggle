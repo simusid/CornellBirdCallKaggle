{
 "cells": [
  {
   "cell_type": "code",
   "execution_count": 7,
   "metadata": {},
   "outputs": [],
   "source": [
    "from glob import glob\n",
    "import librosa\n",
    "import numpy as np\n",
    "\n",
    "from multiprocessing import Pool\n",
    "\n",
    "\n",
    "# bird_classifier/bird and bird_classifier/background\n",
    "background = glob(\"/mnt/md0/urbansounddb/UrbanSound8K/audio/**/*wav\")\n",
    "birds = glob('/mnt/md0/birdsong-recognition/train_audio/**/*mp3')\n",
    "\n",
    "\n"
   ]
  },
  {
   "cell_type": "code",
   "execution_count": 39,
   "metadata": {},
   "outputs": [
    {
     "name": "stderr",
     "output_type": "stream",
     "text": [
      "/home/gary/miniconda3/envs/tf_gpu/lib/python3.7/site-packages/librosa/core/audio.py:161: UserWarning: PySoundFile failed. Trying audioread instead.\n",
      "  warnings.warn('PySoundFile failed. Trying audioread instead.')\n",
      "/home/gary/miniconda3/envs/tf_gpu/lib/python3.7/site-packages/librosa/core/audio.py:161: UserWarning: PySoundFile failed. Trying audioread instead.\n",
      "  warnings.warn('PySoundFile failed. Trying audioread instead.')\n",
      "/home/gary/miniconda3/envs/tf_gpu/lib/python3.7/site-packages/librosa/core/audio.py:161: UserWarning: PySoundFile failed. Trying audioread instead.\n",
      "  warnings.warn('PySoundFile failed. Trying audioread instead.')\n",
      "/home/gary/miniconda3/envs/tf_gpu/lib/python3.7/site-packages/librosa/core/audio.py:161: UserWarning: PySoundFile failed. Trying audioread instead.\n",
      "  warnings.warn('PySoundFile failed. Trying audioread instead.')\n",
      "/home/gary/miniconda3/envs/tf_gpu/lib/python3.7/site-packages/librosa/core/audio.py:161: UserWarning: PySoundFile failed. Trying audioread instead.\n",
      "  warnings.warn('PySoundFile failed. Trying audioread instead.')\n",
      "/home/gary/miniconda3/envs/tf_gpu/lib/python3.7/site-packages/librosa/core/audio.py:161: UserWarning: PySoundFile failed. Trying audioread instead.\n",
      "  warnings.warn('PySoundFile failed. Trying audioread instead.')\n",
      "/home/gary/miniconda3/envs/tf_gpu/lib/python3.7/site-packages/librosa/core/audio.py:161: UserWarning: PySoundFile failed. Trying audioread instead.\n",
      "  warnings.warn('PySoundFile failed. Trying audioread instead.')\n",
      "/home/gary/miniconda3/envs/tf_gpu/lib/python3.7/site-packages/librosa/core/audio.py:161: UserWarning: PySoundFile failed. Trying audioread instead.\n",
      "  warnings.warn('PySoundFile failed. Trying audioread instead.')\n",
      "/home/gary/miniconda3/envs/tf_gpu/lib/python3.7/site-packages/librosa/core/audio.py:161: UserWarning: PySoundFile failed. Trying audioread instead.\n",
      "  warnings.warn('PySoundFile failed. Trying audioread instead.')\n",
      "/home/gary/miniconda3/envs/tf_gpu/lib/python3.7/site-packages/librosa/core/audio.py:161: UserWarning: PySoundFile failed. Trying audioread instead.\n",
      "  warnings.warn('PySoundFile failed. Trying audioread instead.')\n",
      "/home/gary/miniconda3/envs/tf_gpu/lib/python3.7/site-packages/librosa/core/audio.py:161: UserWarning: PySoundFile failed. Trying audioread instead.\n",
      "  warnings.warn('PySoundFile failed. Trying audioread instead.')\n",
      "/home/gary/miniconda3/envs/tf_gpu/lib/python3.7/site-packages/librosa/core/audio.py:161: UserWarning: PySoundFile failed. Trying audioread instead.\n",
      "  warnings.warn('PySoundFile failed. Trying audioread instead.')\n",
      "/home/gary/miniconda3/envs/tf_gpu/lib/python3.7/site-packages/librosa/core/audio.py:161: UserWarning: PySoundFile failed. Trying audioread instead.\n",
      "  warnings.warn('PySoundFile failed. Trying audioread instead.')\n",
      "/home/gary/miniconda3/envs/tf_gpu/lib/python3.7/site-packages/librosa/core/audio.py:161: UserWarning: PySoundFile failed. Trying audioread instead.\n",
      "  warnings.warn('PySoundFile failed. Trying audioread instead.')\n",
      "/home/gary/miniconda3/envs/tf_gpu/lib/python3.7/site-packages/librosa/core/audio.py:161: UserWarning: PySoundFile failed. Trying audioread instead.\n",
      "  warnings.warn('PySoundFile failed. Trying audioread instead.')\n",
      "/home/gary/miniconda3/envs/tf_gpu/lib/python3.7/site-packages/librosa/core/audio.py:161: UserWarning: PySoundFile failed. Trying audioread instead.\n",
      "  warnings.warn('PySoundFile failed. Trying audioread instead.')\n",
      "/home/gary/miniconda3/envs/tf_gpu/lib/python3.7/site-packages/librosa/core/audio.py:161: UserWarning: PySoundFile failed. Trying audioread instead.\n",
      "  warnings.warn('PySoundFile failed. Trying audioread instead.')\n",
      "/home/gary/miniconda3/envs/tf_gpu/lib/python3.7/site-packages/librosa/core/audio.py:161: UserWarning: PySoundFile failed. Trying audioread instead.\n",
      "  warnings.warn('PySoundFile failed. Trying audioread instead.')\n",
      "/home/gary/miniconda3/envs/tf_gpu/lib/python3.7/site-packages/librosa/core/audio.py:161: UserWarning: PySoundFile failed. Trying audioread instead.\n",
      "  warnings.warn('PySoundFile failed. Trying audioread instead.')\n",
      "/home/gary/miniconda3/envs/tf_gpu/lib/python3.7/site-packages/librosa/core/audio.py:161: UserWarning: PySoundFile failed. Trying audioread instead.\n",
      "  warnings.warn('PySoundFile failed. Trying audioread instead.')\n",
      "/home/gary/miniconda3/envs/tf_gpu/lib/python3.7/site-packages/librosa/core/audio.py:161: UserWarning: PySoundFile failed. Trying audioread instead.\n",
      "  warnings.warn('PySoundFile failed. Trying audioread instead.')\n",
      "/home/gary/miniconda3/envs/tf_gpu/lib/python3.7/site-packages/librosa/core/audio.py:161: UserWarning: PySoundFile failed. Trying audioread instead.\n",
      "  warnings.warn('PySoundFile failed. Trying audioread instead.')\n",
      "/home/gary/miniconda3/envs/tf_gpu/lib/python3.7/site-packages/librosa/core/audio.py:161: UserWarning: PySoundFile failed. Trying audioread instead.\n",
      "  warnings.warn('PySoundFile failed. Trying audioread instead.')\n",
      "/home/gary/miniconda3/envs/tf_gpu/lib/python3.7/site-packages/librosa/core/audio.py:161: UserWarning: PySoundFile failed. Trying audioread instead.\n",
      "  warnings.warn('PySoundFile failed. Trying audioread instead.')\n"
     ]
    }
   ],
   "source": [
    "# define a function for the threaded work\n",
    "def doIt(f):\n",
    "    x_train=[]\n",
    "    y_train =[]\n",
    "    if(\"wav\" in f):\n",
    "        theclass=0\n",
    "    else:\n",
    "        theclass=1\n",
    "    try:\n",
    "        mp3, sr = librosa.load(f, sr = 22050//2)\n",
    "        for i in range(0, mp3.shape[0], sr*3):\n",
    "            x = mp3[i:i+sr*3]\n",
    "            if(x.shape[0]== sr*3):\n",
    "                x_train.append(x)\n",
    "                y_train.append(theclass)\n",
    "    except Exception as e:\n",
    "        print(e)\n",
    "    return x_train, y_train\n",
    "\n",
    "if __name__ == '__main__':   \n",
    "    p = Pool(30)    # create 30 computers \n",
    "    pooled_birds = p.map(doIt, birds[::50])  # send the function \"doit\" plus all the filenames to be processed to all the new threads\n",
    "    pooled_background  = p.map(doIt, background)  # different offset (1) and a stride that is multiple of training.   Guaranteed to be unique\n",
    "\n",
    "p.terminate()  # clean up otherwise it seems to cause problems with the kernel "
   ]
  },
  {
   "cell_type": "code",
   "execution_count": 41,
   "metadata": {},
   "outputs": [
    {
     "name": "stdout",
     "output_type": "stream",
     "text": [
      "428 8732\n"
     ]
    }
   ],
   "source": [
    "print(len(pooled_birds), len(pooled_background))"
   ]
  },
  {
   "cell_type": "code",
   "execution_count": 42,
   "metadata": {},
   "outputs": [],
   "source": [
    "def unpoolData(pooled):\n",
    "    xx= []  # temporary placeholdsrs\n",
    "    yy= []  # to unpack results\n",
    "    for f in pooled:\n",
    "        for ff in f[0]:\n",
    "            xx.append(ff)\n",
    "        for ff in f[1]:\n",
    "            yy.append(ff)\n",
    "\n",
    "    xx=np.array(xx)\n",
    "    yy = np.array(yy)\n",
    "    return xx, yy\n",
    " "
   ]
  },
  {
   "cell_type": "code",
   "execution_count": 43,
   "metadata": {},
   "outputs": [],
   "source": [
    "x_train, y_train = unpoolData(pooled_birds + pooled_background)"
   ]
  },
  {
   "cell_type": "code",
   "execution_count": 44,
   "metadata": {},
   "outputs": [
    {
     "data": {
      "text/plain": [
       "(16342, 33075)"
      ]
     },
     "execution_count": 44,
     "metadata": {},
     "output_type": "execute_result"
    }
   ],
   "source": [
    "len(x_train), len(y_train)\n",
    "x_train.shape"
   ]
  },
  {
   "cell_type": "code",
   "execution_count": 45,
   "metadata": {},
   "outputs": [
    {
     "name": "stdout",
     "output_type": "stream",
     "text": [
      "Model: \"sequential_3\"\n",
      "_________________________________________________________________\n",
      "Layer (type)                 Output Shape              Param #   \n",
      "=================================================================\n",
      "conv1d_13 (Conv1D)           (None, 33073, 16)         64        \n",
      "_________________________________________________________________\n",
      "max_pooling1d_13 (MaxPooling (None, 16536, 16)         0         \n",
      "_________________________________________________________________\n",
      "conv1d_14 (Conv1D)           (None, 16536, 32)         1568      \n",
      "_________________________________________________________________\n",
      "max_pooling1d_14 (MaxPooling (None, 4134, 32)          0         \n",
      "_________________________________________________________________\n",
      "conv1d_15 (Conv1D)           (None, 4134, 32)          3104      \n",
      "_________________________________________________________________\n",
      "max_pooling1d_15 (MaxPooling (None, 1033, 32)          0         \n",
      "_________________________________________________________________\n",
      "conv1d_16 (Conv1D)           (None, 1031, 64)          6208      \n",
      "_________________________________________________________________\n",
      "max_pooling1d_16 (MaxPooling (None, 257, 64)           0         \n",
      "_________________________________________________________________\n",
      "conv1d_17 (Conv1D)           (None, 255, 128)          24704     \n",
      "_________________________________________________________________\n",
      "dropout_9 (Dropout)          (None, 255, 128)          0         \n",
      "_________________________________________________________________\n",
      "max_pooling1d_17 (MaxPooling (None, 85, 128)           0         \n",
      "_________________________________________________________________\n",
      "conv1d_18 (Conv1D)           (None, 83, 256)           98560     \n",
      "_________________________________________________________________\n",
      "dropout_10 (Dropout)         (None, 83, 256)           0         \n",
      "_________________________________________________________________\n",
      "max_pooling1d_18 (MaxPooling (None, 27, 256)           0         \n",
      "_________________________________________________________________\n",
      "flatten_3 (Flatten)          (None, 6912)              0         \n",
      "_________________________________________________________________\n",
      "dense_7 (Dense)              (None, 300)               2073900   \n",
      "_________________________________________________________________\n",
      "dropout_11 (Dropout)         (None, 300)               0         \n",
      "_________________________________________________________________\n",
      "dense_8 (Dense)              (None, 300)               90300     \n",
      "_________________________________________________________________\n",
      "dropout_12 (Dropout)         (None, 300)               0         \n",
      "_________________________________________________________________\n",
      "dense_9 (Dense)              (None, 1)                 301       \n",
      "=================================================================\n",
      "Total params: 2,298,709\n",
      "Trainable params: 2,298,709\n",
      "Non-trainable params: 0\n",
      "_________________________________________________________________\n"
     ]
    }
   ],
   "source": [
    "from keras.models import Sequential\n",
    "from keras.layers import *\n",
    "from keras.optimizers import Adam, Adagrad\n",
    "\n",
    "model=Sequential()\n",
    "sr = 33075\n",
    "model.add(Conv1D(16,3, input_shape=(sr,1), activation='relu'))\n",
    "model.add(MaxPooling1D(2))\n",
    "model.add(Conv1D(32,3, padding='same', activation='relu'))\n",
    "model.add(MaxPooling1D(4))\n",
    "model.add(Conv1D(32,3, padding='same', activation='relu'))\n",
    "model.add(MaxPooling1D(4))\n",
    "model.add(Conv1D(64,3, activation='relu'))\n",
    "model.add(MaxPooling1D(4))\n",
    "model.add(Conv1D(128,3, activation='relu'))\n",
    "model.add(Dropout(.1))\n",
    "model.add(MaxPooling1D(3))\n",
    "model.add(Conv1D(256,3, activation='relu'))\n",
    "model.add(Dropout(.1))\n",
    "model.add(MaxPooling1D(3))\n",
    "model.add(Flatten())\n",
    "model.add(Dense(300, activation='relu'))\n",
    "model.add(Dropout(.1))\n",
    "model.add(Dense(300, activation='relu'))\n",
    "model.add(Dropout(.1))  \n",
    "model.add(Dense(1, activation='sigmoid')) # multiclass classifier vs binary classifier would use sigmoid\n",
    "\n",
    "\n",
    "# because softmax we use categorical\n",
    "model.compile(loss='binary_crossentropy', optimizer=Adagrad(), metrics=['acc'])\n",
    "model.summary()\n"
   ]
  },
  {
   "cell_type": "code",
   "execution_count": 50,
   "metadata": {},
   "outputs": [
    {
     "name": "stdout",
     "output_type": "stream",
     "text": [
      "Train on 14707 samples, validate on 1635 samples\n",
      "Epoch 1/10\n",
      "14707/14707 [==============================] - 10s 679us/step - loss: 0.1258 - acc: 0.9530 - val_loss: 0.9938 - val_acc: 0.8281\n",
      "Epoch 2/10\n",
      "14707/14707 [==============================] - 10s 678us/step - loss: 0.1189 - acc: 0.9566 - val_loss: 0.7940 - val_acc: 0.8385\n",
      "Epoch 3/10\n",
      "14707/14707 [==============================] - 10s 702us/step - loss: 0.1130 - acc: 0.9589 - val_loss: 0.6318 - val_acc: 0.8911\n",
      "Epoch 4/10\n",
      "14707/14707 [==============================] - 10s 682us/step - loss: 0.1046 - acc: 0.9629 - val_loss: 0.7606 - val_acc: 0.8673\n",
      "Epoch 5/10\n",
      "14707/14707 [==============================] - 10s 683us/step - loss: 0.0982 - acc: 0.9640 - val_loss: 0.9093 - val_acc: 0.8569\n",
      "Epoch 6/10\n",
      "14707/14707 [==============================] - 10s 673us/step - loss: 0.0927 - acc: 0.9666 - val_loss: 1.1247 - val_acc: 0.8300\n",
      "Epoch 7/10\n",
      "14707/14707 [==============================] - 10s 682us/step - loss: 0.0891 - acc: 0.9678 - val_loss: 1.1432 - val_acc: 0.8398\n",
      "Epoch 8/10\n",
      "14707/14707 [==============================] - 10s 684us/step - loss: 0.0832 - acc: 0.9704 - val_loss: 1.1686 - val_acc: 0.8434\n",
      "Epoch 9/10\n",
      "14707/14707 [==============================] - 10s 680us/step - loss: 0.0797 - acc: 0.9711 - val_loss: 1.3914 - val_acc: 0.8275\n",
      "Epoch 10/10\n",
      "14707/14707 [==============================] - 10s 684us/step - loss: 0.0732 - acc: 0.9742 - val_loss: 1.2671 - val_acc: 0.8728\n"
     ]
    },
    {
     "data": {
      "text/plain": [
       "<keras.callbacks.callbacks.History at 0x7f78ec3f4510>"
      ]
     },
     "execution_count": 50,
     "metadata": {},
     "output_type": "execute_result"
    }
   ],
   "source": [
    "x_train = np.reshape(x_train, (x_train.shape[0], x_train.shape[1], 1))\n",
    "model.fit(x_train, y_train, validation_split=.1, epochs=10)"
   ]
  },
  {
   "cell_type": "code",
   "execution_count": 47,
   "metadata": {},
   "outputs": [
    {
     "data": {
      "text/plain": [
       "0.5430791824746053"
      ]
     },
     "execution_count": 47,
     "metadata": {},
     "output_type": "execute_result"
    }
   ],
   "source": [
    "np.sum(y_train)/y_train.shape[0]"
   ]
  },
  {
   "cell_type": "code",
   "execution_count": null,
   "metadata": {},
   "outputs": [],
   "source": []
  }
 ],
 "metadata": {
  "kernelspec": {
   "display_name": "Python 3",
   "language": "python",
   "name": "python3"
  },
  "language_info": {
   "codemirror_mode": {
    "name": "ipython",
    "version": 3
   },
   "file_extension": ".py",
   "mimetype": "text/x-python",
   "name": "python",
   "nbconvert_exporter": "python",
   "pygments_lexer": "ipython3",
   "version": "3.7.7"
  }
 },
 "nbformat": 4,
 "nbformat_minor": 4
}
